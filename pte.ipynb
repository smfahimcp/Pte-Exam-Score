{
 "cells": [
  {
   "cell_type": "markdown",
   "id": "e76c09a9",
   "metadata": {},
   "source": [
    "<style>\n",
    "body {\n",
    "  font-family: Helvetica, Arial, sans-serif;\n",
    "  line-height: 1.5;\n",
    "  padding: 20px;\n",
    "}\n",
    "h1 {\n",
    "  font-size: 28pt;\n",
    "  margin-bottom: 12px;\n",
    "}\n",
    "h2 {\n",
    "  font-size: 18pt;\n",
    "  margin-top: 24px;\n",
    "  margin-bottom: 8px;\n",
    "  color: #333;\n",
    "}\n",
    "p.intro {\n",
    "  font-size: 12pt;\n",
    "  margin-bottom: 16px;\n",
    "}\n",
    "table {\n",
    "  width: 90%;\n",
    "  border-collapse: collapse;\n",
    "  margin-top: 8px;\n",
    "  margin-bottom: 16px;\n",
    "}\n",
    "th, td {\n",
    "  border: 2px solid #666;\n",
    "  padding: 12px 10px;\n",
    "  text-align: center;\n",
    "  font-size: 12pt;\n",
    "}\n",
    "th {\n",
    "  background-color: #d3d3d3;\n",
    "  font-weight: bold;\n",
    "}\n",
    "tbody tr:nth-child(odd) {\n",
    "  background-color: #f2f2f2;\n",
    "}\n",
    "</style>"
   ]
  },
  {
   "cell_type": "markdown",
   "id": "e63314f8",
   "metadata": {},
   "source": [
    "# 📄 PTE Exam Score Distribution and Section-wise Marking Guide"
   ]
  },
  {
   "cell_type": "markdown",
   "id": "1c7944c6",
   "metadata": {},
   "source": [
    "<p class=\"intro\">The Pearson Test of English (PTE) Academic is assessed out of <b>90 marks</b>. Your performance is scored across four main communicative skills: Speaking, Writing, Reading, and Listening. Below is a structured breakdown with indicative mark ranges for each task type.</p>"
   ]
  },
  {
   "cell_type": "markdown",
   "id": "5707e525",
   "metadata": {},
   "source": [
    "## 1. Speaking (Approx. 25–30 marks)\n",
    "<table>\n",
    "  <tr><th>Task Type</th><th>Skills Tested</th><th>Marks</th></tr>\n",
    "  <tr><td>Read Aloud</td><td>Speaking + Reading</td><td>6–7</td></tr>\n",
    "  <tr><td>Repeat Sentence</td><td>Speaking + Listening</td><td>7–8</td></tr>\n",
    "  <tr><td>Describe Image</td><td>Speaking</td><td>3–4</td></tr>\n",
    "  <tr><td>Re-tell Lecture</td><td>Speaking + Listening</td><td>4–5</td></tr>\n",
    "  <tr><td>Answer Short Question</td><td>Speaking + Listening</td><td>2–3</td></tr>\n",
    "</table>"
   ]
  },
  {
   "cell_type": "markdown",
   "id": "5a232c07",
   "metadata": {},
   "source": [
    "## 2. Writing (Approx. 20–25 marks)\n",
    "<table>\n",
    "  <tr><th>Task Type</th><th>Skills Tested</th><th>Marks</th></tr>\n",
    "  <tr><td>Summarize Written Text</td><td>Writing + Reading</td><td>8–10</td></tr>\n",
    "  <tr><td>Essay Writing</td><td>Writing</td><td>12–15</td></tr>\n",
    "</table>"
   ]
  },
  {
   "cell_type": "markdown",
   "id": "aad9e711",
   "metadata": {},
   "source": [
    "## 3. Reading (Approx. 15–20 marks)\n",
    "<table>\n",
    "  <tr><th>Task Type</th><th>Skills Tested</th><th>Marks</th></tr>\n",
    "  <tr><td>Multiple Choice (Single)</td><td>Reading</td><td>1–2</td></tr>\n",
    "  <tr><td>Multiple Choice (Multiple)</td><td>Reading</td><td>1–2</td></tr>\n",
    "  <tr><td>Re-order Paragraphs</td><td>Reading</td><td>2–3</td></tr>\n",
    "  <tr><td>Reading: Fill in the Blanks</td><td>Reading</td><td>4–6</td></tr>\n",
    "  <tr><td>Reading & Writing: Fill in Blanks</td><td>Reading + Writing</td><td>6–8</td></tr>\n",
    "</table>"
   ]
  },
  {
   "cell_type": "markdown",
   "id": "3a1ca2f7",
   "metadata": {},
   "source": [
    "## 4. Listening (Approx. 20–25 marks)\n",
    "<table>\n",
    "  <tr><th>Task Type</th><th>Skills Tested</th><th>Marks</th></tr>\n",
    "  <tr><td>Summarize Spoken Text</td><td>Listening + Writing</td><td>8–10</td></tr>\n",
    "  <tr><td>Multiple Choice (Multiple)</td><td>Listening</td><td>1–2</td></tr>\n",
    "  <tr><td>Fill in the Blanks</td><td>Listening + Writing</td><td>4–6</td></tr>\n",
    "  <tr><td>Highlight Correct Summary</td><td>Listening</td><td>1–2</td></tr>\n",
    "  <tr><td>Multiple Choice (Single)</td><td>Listening</td><td>1–2</td></tr>\n",
    "  <tr><td>Select Missing Word</td><td>Listening</td><td>1–2</td></tr>\n",
    "  <tr><td>Highlight Incorrect Words</td><td>Listening + Reading</td><td>2–3</td></tr>\n",
    "  <tr><td>Write from Dictation</td><td>Listening + Writing</td><td>6–8</td></tr>\n",
    "</table>"
   ]
  },
  {
   "cell_type": "markdown",
   "id": "016679bb",
   "metadata": {},
   "source": [
    "> **Note:** The actual contribution of marks may vary slightly depending on test versions. Focus on improving integrated tasks to boost multiple areas simultaneously."
   ]
  }
 ],
 "metadata": {},
 "nbformat": 4,
 "nbformat_minor": 5
}
